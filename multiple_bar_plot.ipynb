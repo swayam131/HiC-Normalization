{
 "cells": [
  {
   "cell_type": "code",
   "execution_count": null,
   "id": "fba06421",
   "metadata": {},
   "outputs": [],
   "source": [
    "import numpy as np\n",
    "import matplotlib.pyplot as plt\n",
    "\n",
    "N=3\n",
    "ind=np.arange(N)\n",
    "width=0.25\n",
    "\n",
    "xvals = [1.33, 27.4, 133.3]\n",
    "bar1=plt.bar(ind,xvals,width,color='r')\n",
    "\n",
    "yvals=[0.7, 10, 42.2]\n",
    "bar2=plt.bar(ind+width,yvals,width,color='b')\n",
    "\n",
    "zvals=[0.56, 3.6 ,10]\n",
    "bar3=plt.bar(ind+width*2,zvals,width,color='cyan')\n",
    "\n",
    "plt.xlabel(\"Domain size\")\n",
    "plt.ylabel(\"Volume(nm3)\")\n",
    "\n",
    "plt.xticks(ind+width,['10','100','343'])\n",
    "plt.legend((bar1,bar2,bar3),('Active chromatin','Inactive chromatin','Repressed chromatin'))\n",
    "plt.show()\n",
    "plt.savefig('epigenetic_fig_7d.svg')"
   ]
  }
 ],
 "metadata": {
  "kernelspec": {
   "display_name": "Python 3 (ipykernel)",
   "language": "python",
   "name": "python3"
  },
  "language_info": {
   "codemirror_mode": {
    "name": "ipython",
    "version": 3
   },
   "file_extension": ".py",
   "mimetype": "text/x-python",
   "name": "python",
   "nbconvert_exporter": "python",
   "pygments_lexer": "ipython3",
   "version": "3.7.10"
  }
 },
 "nbformat": 4,
 "nbformat_minor": 5
}
